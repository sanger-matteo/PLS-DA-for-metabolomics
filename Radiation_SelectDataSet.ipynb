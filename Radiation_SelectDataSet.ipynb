{
 "cells": [
  {
   "cell_type": "code",
   "execution_count": 1,
   "metadata": {},
   "outputs": [
    {
     "ename": "NameError",
     "evalue": "name 'pd' is not defined",
     "output_type": "error",
     "traceback": [
      "\u001b[0;31m---------------------------------------------------------------------------\u001b[0m",
      "\u001b[0;31mNameError\u001b[0m                                 Traceback (most recent call last)",
      "\u001b[0;32m<ipython-input-1-0294c4a0c98f>\u001b[0m in \u001b[0;36m<module>\u001b[0;34m\u001b[0m\n\u001b[1;32m      3\u001b[0m \u001b[0;31m# ****************************************************************************\u001b[0m\u001b[0;34m\u001b[0m\u001b[0;34m\u001b[0m\u001b[0;34m\u001b[0m\u001b[0m\n\u001b[1;32m      4\u001b[0m \u001b[0mroot_path\u001b[0m \u001b[0;34m=\u001b[0m \u001b[0;34m\"/Users/mattesa/molbreastlab-storage/work/Radiation_study/Matteo\"\u001b[0m\u001b[0;34m\u001b[0m\u001b[0;34m\u001b[0m\u001b[0m\n\u001b[0;32m----> 5\u001b[0;31m \u001b[0mCD_samples\u001b[0m \u001b[0;34m=\u001b[0m \u001b[0mpd\u001b[0m\u001b[0;34m.\u001b[0m\u001b[0mread_csv\u001b[0m\u001b[0;34m(\u001b[0m \u001b[0mroot_path\u001b[0m \u001b[0;34m+\u001b[0m \u001b[0;34m\"/PyDF_Sample_ClinikData.csv\"\u001b[0m \u001b[0;34m)\u001b[0m\u001b[0;34m\u001b[0m\u001b[0;34m\u001b[0m\u001b[0m\n\u001b[0m\u001b[1;32m      6\u001b[0m \u001b[0mLP_measure\u001b[0m \u001b[0;34m=\u001b[0m \u001b[0mpd\u001b[0m\u001b[0;34m.\u001b[0m\u001b[0mread_csv\u001b[0m\u001b[0;34m(\u001b[0m \u001b[0mroot_path\u001b[0m \u001b[0;34m+\u001b[0m \u001b[0;34m\"/PyDF_Lipoproteine.csv\"\u001b[0m\u001b[0;34m)\u001b[0m\u001b[0;34m\u001b[0m\u001b[0;34m\u001b[0m\u001b[0m\n\u001b[1;32m      7\u001b[0m \u001b[0mMB_measure\u001b[0m \u001b[0;34m=\u001b[0m \u001b[0mpd\u001b[0m\u001b[0;34m.\u001b[0m\u001b[0mread_csv\u001b[0m\u001b[0;34m(\u001b[0m \u001b[0mroot_path\u001b[0m \u001b[0;34m+\u001b[0m \u001b[0;34m\"/PyDF_Metabolittene.csv\"\u001b[0m\u001b[0;34m)\u001b[0m\u001b[0;34m\u001b[0m\u001b[0;34m\u001b[0m\u001b[0m\n",
      "\u001b[0;31mNameError\u001b[0m: name 'pd' is not defined"
     ]
    }
   ],
   "source": [
    "# ****************************************************************************\n",
    "#    LOAD data-tables \n",
    "# ****************************************************************************\n",
    "root_path = \"/Users/mattesa/molbreastlab-storage/work/Radiation_study/Matteo\"\n",
    "CD_samples = pd.read_csv( root_path + \"/PyDF_Sample_ClinikData.csv\" )\n",
    "LP_measure = pd.read_csv( root_path + \"/PyDF_Lipoproteine.csv\")\n",
    "MB_measure = pd.read_csv( root_path + \"/PyDF_Metabolittene.csv\")\n",
    "\n",
    "# Load table with variables and colors\n",
    "data_type    = \"LP\"\n",
    "tableVars_Order_RGB = pd.read_csv(root_path + \"/table\"+data_type+\"_Order_RGB.csv\")\n",
    "\n",
    "vars_order = tableVars_Order_RGB[\"LP_names\"].values.tolist()\n",
    "vars_color = []\n",
    "for ii in range(tableVars_Order_RGB.shape[0]):\n",
    "    vars_color.append([ tableVars_Order_RGB.loc[ii,\"R\"], \n",
    "                        tableVars_Order_RGB.loc[ii,\"G\"], \n",
    "                        tableVars_Order_RGB.loc[ii,\"B\"] ])"
   ]
  },
  {
   "cell_type": "code",
   "execution_count": 567,
   "metadata": {},
   "outputs": [
    {
     "name": "stdout",
     "output_type": "stream",
     "text": [
      "Selected groups in  Death_Recur_10y  are: \n",
      "Cat.  0  -  804\n",
      "Cat.  1  -  174\n"
     ]
    }
   ],
   "source": [
    "# ----------------------------------------------------------------------------\n",
    "#  SINGLE TIME POINT - Select samples from the (unique) patients at one time \n",
    "#               points. This use the matrix to perform PLS analysis\n",
    "# ----------------------------------------------------------------------------\n",
    "\n",
    "import scipy.stats as st\n",
    "import sys\n",
    "\n",
    "# Add path to list of known working paths for Python \n",
    "sys.path.append('/Users/mattesa/ZenBook/Python/PLS-DA')\n",
    "\n",
    "import mbc_PLS_basic                # My PLS library\n",
    "from mbc_PLS_basic import *\n",
    "# Force reload during development, otherwise Python only loads first time \n",
    "# and does not update unless the kernel is rebooted\n",
    "import importlib\n",
    "importlib.reload(mbc_PLS_basic)\n",
    "\n",
    "# ****************************************************************************\n",
    "#  - 1 -  PARAMETERS for modelling cross validation\n",
    "# ****************************************************************************\n",
    "# Column name for the response variable to use in PLS-DA\n",
    "unique_PID   = \"PatientID\"\n",
    "Response_Col = \"Death_Recur_10y\"\n",
    "timepoint    = 5\n",
    "\n",
    "fold_save    = \"Survival\"\n",
    "data_type    = \"LP\"\n",
    "\n",
    "# Double cross validation parameters and Fraction test-to-train \n",
    "max_N_LV = 10\n",
    "inner_N_loops = 10;\n",
    "outer_N_loops = 20;\n",
    "inner_FractSele = 0.20   \n",
    "outer_FractSele = 0.20 ; \n",
    "# Categories (/level) to use to create two group based on response variable \n",
    "min_cat    = 0\n",
    "max_cat    = 1\n",
    "# Transform categories into 0 and 1 values\n",
    "transform_cat = True\n",
    "if transform_cat == True :\n",
    "    min_rval = 0\n",
    "    max_rval = 1\n",
    "    p_threshold = 0.5                       # predicted probability threshold\n",
    "else:\n",
    "    min_rval = min_cat\n",
    "    max_rval = max_cat\n",
    "    p_threshold = (min_cat+max_cat) / 2     # predicted probability threshold\n",
    "\n",
    "             \n",
    "# ****************************************************************************\n",
    "#  - 2 -  SELECTION of observation groups for modelling\n",
    "# ****************************************************************************\n",
    "# Prepare the data we wish to use for the PLS model in XX and YY dataframes.\n",
    "YY = CD_samples.copy()\n",
    "# Chose the dataset according to the data_type\n",
    "if   data_type == \"LP\":\n",
    "    dataset = LP_measure               \n",
    "elif data_type == \"MB\":\n",
    "    dataset = MB_measure \n",
    "elif data_type == \"LP-MB\":\n",
    "    dataset = pd.concat([LP_measure, MB_measure.iloc[:,2:]], axis = 1)\n",
    "    \n",
    "# Select only samples from a specific time point\n",
    "#mask = YY[\"Timepoint_kodet\"]== 5\n",
    "#YY = YY.loc[mask]\n",
    "#dataset = dataset.loc[mask]\n",
    "\n",
    "# Remove samples with NaN values in Response_Col\n",
    "mask = YY[Response_Col].isnull().values\n",
    "YY = YY.loc[ ~mask, : ]\n",
    "dataset = dataset.loc[ ~mask, : ]\n",
    "\n",
    "# Display how many sample there are for each category.\n",
    "col_name = \"Status_code\"\n",
    "data_column = YY[Response_Col]\n",
    "categ = [min_cat, max_cat]\n",
    "print(\"Selected groups in \", Response_Col, \" are: \")\n",
    "for cc in categ:\n",
    "    tot = ( data_column == cc).sum()\n",
    "    print(\"Cat. \", cc, \" - \",  tot)\n",
    "\n",
    "# Shuffle the response variable values to test the accuracy of the PLS model\n",
    "# YY = Shuffle_ColumnValues( YY, Response_Col )\n",
    "\n",
    "# Scale-standardize the XX matrix and reduce selection only for data with \n",
    "# specific values in \"Response_Col\" column (min_cat, max_cat)\n",
    "XX_vars_scaled, XX_scaled = StandardScale_FeatureTable( dataset , 4)\n",
    "XX = XX.iloc[:,4:]    # XX_vars_scaled\n",
    "XX, YY = OneWaySele_2Tables( XX_vars_scaled, YY, Response_Col, [min_cat,max_cat], transform_cat ) "
   ]
  },
  {
   "cell_type": "code",
   "execution_count": 568,
   "metadata": {},
   "outputs": [
    {
     "name": "stdout",
     "output_type": "stream",
     "text": [
      "Iteration:   : 20 of 20\n",
      "\n",
      "Mode num. LV:  1\n",
      "Accuracy    :  0.81  ( 0.8014, 0.8161 )\n"
     ]
    },
    {
     "data": {
      "image/png": "[encoded data removed]",
      "text/plain": [
       "<Figure size 288x216 with 1 Axes>"
      ]
     },
     "metadata": {
      "needs_background": "light"
     },
     "output_type": "display_data"
    },
    {
     "data": {
      "image/png": "[encoded data removed]",
      "text/plain": [
       "<Figure size 576x216 with 1 Axes>"
      ]
     },
     "metadata": {
      "needs_background": "light"
     },
     "output_type": "display_data"
    },
    {
     "data": {
      "text/html": [
       "<div>\n",
       "<style scoped>\n",
       "    .dataframe tbody tr th:only-of-type {\n",
       "        vertical-align: middle;\n",
       "    }\n",
       "\n",
       "    .dataframe tbody tr th {\n",
       "        vertical-align: top;\n",
       "    }\n",
       "\n",
       "    .dataframe thead th {\n",
       "        text-align: right;\n",
       "    }\n",
       "</style>\n",
       "<table border=\"1\" class=\"dataframe\">\n",
       "  <thead>\n",
       "    <tr style=\"text-align: right;\">\n",
       "      <th></th>\n",
       "      <th>Mean</th>\n",
       "    </tr>\n",
       "  </thead>\n",
       "  <tbody>\n",
       "    <tr>\n",
       "      <th>Accuracy</th>\n",
       "      <td>0.808772</td>\n",
       "    </tr>\n",
       "    <tr>\n",
       "      <th>Specificity</th>\n",
       "      <td>0.996229</td>\n",
       "    </tr>\n",
       "    <tr>\n",
       "      <th>Sensitivity</th>\n",
       "      <td>0.006430</td>\n",
       "    </tr>\n",
       "    <tr>\n",
       "      <th>Best_nLV</th>\n",
       "      <td>3.750000</td>\n",
       "    </tr>\n",
       "  </tbody>\n",
       "</table>\n",
       "</div>"
      ],
      "text/plain": [
       "                 Mean\n",
       "Accuracy     0.808772\n",
       "Specificity  0.996229\n",
       "Sensitivity  0.006430\n",
       "Best_nLV     3.750000"
      ]
     },
     "execution_count": 568,
     "metadata": {},
     "output_type": "execute_result"
    }
   ],
   "source": [
    "# ****************************************************************************\n",
    "#  - 3 -  PLS Cross-validation of PLS\n",
    "# ****************************************************************************\n",
    "PerfoMetric, comparPred, outerCAL, totalCAL, optimal_nLV = optimise_PLS_CrossVal(\n",
    "                        XX, YY, max_N_LV, unique_PID,\n",
    "                        Response_Col, min_rval, max_rval, p_threshold , \n",
    "                        outer_N_loops, inner_N_loops, outer_FractSele, inner_FractSele,\n",
    "                        True)\n",
    "# Calculate the Accuracy CI (confidence intervals)\n",
    "data  = PerfoMetric.loc[\"Accuracy\"].values.tolist()\n",
    "CI = st.t.interval(0.95, len(data)-1, loc=np.mean(data), scale=st.sem(data))\n",
    "CI = [ CI[xx] for xx in range(len(CI))]      # tuple-to-list conversion\n",
    "\n",
    "# Visualize key results on accuracy and optimal LV number\n",
    "print(\"\\n\")\n",
    "print(\"Mode num. LV:  \" + str(optimal_nLV) )\n",
    "PerfoMetric[\"Mean\"] = PerfoMetric.mean(axis=1)\n",
    "print(\"Accuracy    :  \" + str(round( PerfoMetric.mean(axis=1)[\"Accuracy\"], 2))\n",
    "                        + \"  ( \" +str(round(CI[0],4))+\", \"+str(round(CI[1],4))+ \" )\" ) \n",
    "\n",
    "plot_metrics( outerCAL.T.values , 'ACCU', 'max', True)\n",
    "\n",
    "pd.DataFrame( PerfoMetric[\"Mean\"] )"
   ]
  },
  {
   "cell_type": "code",
   "execution_count": 573,
   "metadata": {},
   "outputs": [
    {
     "data": {
      "image/png": "[encoded data removed]",
      "text/plain": [
       "<Figure size 1152x288 with 2 Axes>"
      ]
     },
     "metadata": {
      "needs_background": "light"
     },
     "output_type": "display_data"
    }
   ],
   "source": [
    "# ****************************************************************************\n",
    "#  - 4 -  Orthogonal-PLS  and  Plotting\n",
    "# ****************************************************************************\n",
    "\n",
    "from pyopls import *\n",
    "# Create the class OPLS, with the LV to orthogonalize into the first component \n",
    "# that was found from perfoming PLS cross validation\n",
    "opls = OPLS( int(optimal_nLV+1) )\n",
    "# Fit the model to the data, then get the non-orthogonal components of X \n",
    "# i.e. Learn and apply filtering on the training data and get the filtered X, \n",
    "# which is called variable Z in the code\n",
    "Z  = opls.fit_transform( XX, YY[Response_Col])\n",
    "ZZ_opls = pd.DataFrame(data = Z, columns = XX.columns.values, index = XX.index.values)\n",
    "\n",
    "X_scores, Y_scores, X_loads, Y_loads = PLS_fit_model( ZZ_opls, YY.loc[:, Response_Col], 8, False)\n",
    "\n",
    "# --- PLOT\n",
    "fig, (ax1, ax2) = plt.subplots( 1, 2, figsize=(16, 4), gridspec_kw={'width_ratios': [5, 16]})\n",
    "\n",
    "plot_ScoresPLS( X_scores, YY, Response_Col, [min_cat,max_cat] , ax1)\n",
    "\n",
    "plot_LoadingsPLS( X_loads, YY, Response_Col, [min_cat,max_cat], vars_order, vars_color, 1, ax2)"
   ]
  },
  {
   "cell_type": "code",
   "execution_count": 542,
   "metadata": {},
   "outputs": [
    {
     "name": "stdout",
     "output_type": "stream",
     "text": [
      "Selected groups in  Death_Recur_10y  are: \n",
      "Cat.  0  -  105\n",
      "Cat.  1  -  24\n"
     ]
    }
   ],
   "source": [
    "# ----------------------------------------------------------------------------\n",
    "#  DELTA_vars - Subtract the measured variables between samples from the same \n",
    "#               patients at two time points. This will give us a matrix that\n",
    "#               measures the change between the two time point\n",
    "# ----------------------------------------------------------------------------\n",
    "\n",
    "import scipy.stats as st\n",
    "import sys\n",
    "\n",
    "# Add path to list of known working paths for Python \n",
    "sys.path.append('/Users/mattesa/ZenBook/Python/PLS-DA')\n",
    "\n",
    "import mbc_PLS_basic                # My PLS library\n",
    "from mbc_PLS_basic import *\n",
    "# Force reload during development, otherwise Python only loads first time \n",
    "# and does not update unless the kernel is rebooted\n",
    "import importlib\n",
    "importlib.reload(mbc_PLS_basic)\n",
    "\n",
    "\n",
    "# ****************************************************************************\n",
    "#  - 1 -  PARAMETERS for modelling cross validation\n",
    "# ****************************************************************************\n",
    "# Column name for the response variable to use in PLS-DA\n",
    "unique_PID   = \"PatientID\"\n",
    "Response_Col = \"Death_Recur_10y\"\n",
    "timepoint_A   = 1\n",
    "timepoint_B   = 5\n",
    "\n",
    "fold_save    = \"Survival\"\n",
    "data_type    = \"LP\"\n",
    "\n",
    "# Double cross validation parameters and Fraction test-to-train \n",
    "max_N_LV = 10\n",
    "inner_N_loops = 10;\n",
    "outer_N_loops = 20;\n",
    "inner_FractSele = 0.20   \n",
    "outer_FractSele = 0.20 ; \n",
    "# Categories (/level) to use to create two group based on response variable \n",
    "min_cat    = 0\n",
    "max_cat    = 1\n",
    "# Transform categories into 0 and 1 values\n",
    "transform_cat = True\n",
    "if transform_cat == True :\n",
    "    min_rval = 0\n",
    "    max_rval = 1\n",
    "    p_threshold = 0.5                       # predicted probability threshold\n",
    "else:\n",
    "    min_rval = min_cat\n",
    "    max_rval = max_cat\n",
    "    p_threshold = (min_cat+max_cat) / 2     # predicted probability threshold\n",
    "\n",
    "             \n",
    "# ****************************************************************************\n",
    "#  - 2 -  SELECTION of observation groups for modelling\n",
    "# ****************************************************************************\n",
    "# Prepare the data we wish to use for the PLS model in XX and YY dataframes.\n",
    "YY = CD_samples.copy()\n",
    "# Chose the dataset according to the data_type\n",
    "if   data_type == \"LP\":\n",
    "    dataset = LP_measure               \n",
    "elif data_type == \"MB\":\n",
    "    dataset = MB_measure \n",
    "elif data_type == \"LP-MB\":\n",
    "    dataset = pd.concat([LP_measure, MB_measure.iloc[:,2:]], axis = 1)\n",
    "    \n",
    "# Select samples from two time point and then calculate the Delta-change\n",
    "# ----------------------------------------------------------------------------\n",
    "mask_A = YY[\"Timepoint_kodet\"]== timepoint_A\n",
    "mask_B = YY[\"Timepoint_kodet\"]== timepoint_B\n",
    "A_YY = YY.loc[mask_A]\n",
    "B_YY = YY.loc[mask_B]\n",
    "\n",
    "# Ensure the two dataframe have the exact patient list. Remove extras from \n",
    "# last time point (B) and select only common patients in first timepoint (A)\n",
    "miss_B_drop = np.setdiff1d( B_YY[\"PatientID\"], A_YY[\"PatientID\"])\n",
    "miss_A_sele = np.setdiff1d( A_YY[\"PatientID\"], B_YY[\"PatientID\"])\n",
    "list_nn = np.setdiff1d( A_YY[\"PatientID\"], miss_A_sele )\n",
    "A_YY = A_YY.loc[A_YY[\"PatientID\"].isin(list_nn)]\n",
    "B_YY = B_YY.loc[~B_YY[\"PatientID\"].isin(miss_B_drop)]\n",
    "\n",
    "# Sort-by name columns \"Samplename\" and then remove uncategorized timepoints.\n",
    "A_YY = A_YY.sort_values(\"PatientID\")\n",
    "B_YY = B_YY.sort_values(\"PatientID\")\n",
    "\n",
    "# Select the XX sub-DF for the two time points \n",
    "A_XX = dataset.loc[A_YY.index,:].copy()\n",
    "B_XX = dataset.loc[B_YY.index,:].copy()\n",
    "# Calculate the \"Delta\" between the two time points\n",
    "DeltaChange = abs(A_XX.iloc[:,4:].values - B_XX.iloc[:,4:].values)\n",
    "# Create XX (without metadata) and YY to use analysis\n",
    "XX = pd.DataFrame( DetlaChange, columns=B_XX.iloc[:,4:].columns, index=B_XX.index )\n",
    "YY = B_YY.copy()\n",
    "# ----------------------------------------------------------------------------\n",
    "\n",
    "\n",
    "# Remove samples with NaN values in Response_Col\n",
    "mask = YY[Response_Col].isnull().values\n",
    "YY = YY.loc[ ~mask, : ]\n",
    "XX = XX.loc[ ~mask, : ]\n",
    "\n",
    "# Display how many sample there are for each category.\n",
    "col_name = \"Status_code\"\n",
    "data_column = YY[Response_Col]\n",
    "categ = [min_cat, max_cat]\n",
    "print(\"Selected groups in \", Response_Col, \" are: \")\n",
    "for cc in categ:\n",
    "    tot = ( data_column == cc).sum()\n",
    "    print(\"Cat. \", cc, \" - \",  tot)\n",
    "\n",
    "# Scale-standardize the XX matrix and reduce selection only for data with \n",
    "# specific values in \"Response_Col\" column (min_cat, max_cat)\n",
    "# XX_vars_scaled, XX_scaled = StandardScale_FeatureTable( dataset , 4)\n",
    "\n",
    "XX, YY = OneWaySele_2Tables( XX, YY, Response_Col, [min_cat,max_cat], transform_cat ) \n"
   ]
  },
  {
   "cell_type": "code",
   "execution_count": 574,
   "metadata": {},
   "outputs": [
    {
     "name": "stdout",
     "output_type": "stream",
     "text": [
      "Length -  198\n"
     ]
    }
   ],
   "source": [
    "dataset = comparPred[\"Y_predict\"].values\n",
    "min_cat    = 0\n",
    "max_cat    = 1\n",
    "print(\"Length - \", len(dataset) )\n"
   ]
  },
  {
   "cell_type": "code",
   "execution_count": 585,
   "metadata": {},
   "outputs": [],
   "source": [
    "from sklearn.naive_bayes import GaussianNB\n",
    "\n",
    "gnb = GaussianNB()\n",
    "y_pred = gnb.fit(XX, YY[Response_Col]).predict(XX)\n"
   ]
  },
  {
   "cell_type": "code",
   "execution_count": 586,
   "metadata": {},
   "outputs": [
    {
     "data": {
      "text/plain": [
       "array([0, 1, 0, 0, 1, 1, 1, 0, 1, 1, 0, 1, 1, 1, 0, 0, 1, 0, 1, 0, 1, 1,\n",
       "       0, 0, 0, 1, 0, 1, 1, 0, 0, 0, 0, 0, 0, 0, 0, 0, 0, 0, 1, 1, 0, 0,\n",
       "       0, 1, 0, 1, 0, 1, 1, 1, 0, 1, 0, 1, 1, 0, 0, 0, 0, 0, 0, 0, 1, 0,\n",
       "       1, 0, 1, 1, 0, 1, 0, 1, 0, 0, 1, 1, 0, 1, 1, 1, 0, 0, 0, 1, 0, 0,\n",
       "       0, 0, 0, 1, 1, 1, 1, 0, 0, 1, 1, 0, 0, 0, 0, 0, 0, 0, 0, 1, 0, 0,\n",
       "       0, 0, 0, 1, 0, 1, 1, 1, 1, 1, 0, 1, 0, 1, 0, 0, 0, 0, 1, 0, 0, 1,\n",
       "       1, 0, 0, 0, 0, 0, 1, 1, 1, 0, 0, 1, 0, 1, 1, 0, 1, 0, 1, 0, 0, 0,\n",
       "       0, 0, 1, 1, 1, 1, 1, 0, 0, 0, 0, 0, 1, 1, 1, 0, 0, 0, 0, 0, 1, 0,\n",
       "       0, 0, 0, 1, 1, 1, 1, 0, 0, 0, 0, 0, 0, 1, 1, 1, 1, 0, 0, 1, 1, 1,\n",
       "       1, 1, 0, 0, 1, 1, 1, 0, 1, 1, 0, 0, 1, 0, 1, 1, 0, 0, 0, 0, 1, 0,\n",
       "       0, 1, 0, 1, 0, 1, 0, 0, 1, 0, 0, 0, 0, 0, 0, 1, 1, 1, 1, 1, 1, 1,\n",
       "       1, 1, 1, 1, 0, 0, 0, 0, 0, 1, 1, 0, 0, 1, 0, 0, 0, 0, 0, 0, 1, 0,\n",
       "       0, 0, 1, 0, 0, 0, 0, 0, 0, 0, 1, 1, 0, 0, 1, 0, 1, 0, 1, 1, 0, 0,\n",
       "       0, 1, 0, 1, 0, 1, 0, 1, 0, 0, 0, 0, 0, 1, 0, 0, 0, 0, 1, 1, 0, 0,\n",
       "       1, 1, 1, 1, 0, 1, 1, 1, 1, 1, 1, 0, 0, 0, 0, 1, 1, 1, 1, 1, 1, 1,\n",
       "       0, 0, 0, 1, 1, 1, 1, 1, 0, 1, 0, 0, 0, 0, 0, 0, 0, 0, 0, 0, 1, 1,\n",
       "       0, 0, 0, 0, 1, 1, 1, 1, 0, 1, 1, 0, 0, 1, 1, 0, 0, 1, 0, 0, 0, 0,\n",
       "       0, 0, 1, 0, 0, 0, 0, 0, 1, 1, 1, 0, 0, 1, 0, 0, 1, 1, 1, 1, 0, 0,\n",
       "       1, 1, 1, 1, 0, 0, 0, 0, 1, 1, 0, 0, 1, 1, 1, 1, 0, 0, 0, 1, 0, 0,\n",
       "       0, 0, 1, 0, 1, 1, 0, 0, 0, 0, 0, 1, 0, 0, 0, 0, 0, 1, 0, 0, 0, 1,\n",
       "       1, 1, 0, 1, 0, 0, 0, 0, 1, 1, 0, 0, 0, 1, 1, 1, 0, 0, 0, 0, 0, 0,\n",
       "       0, 0, 1, 0, 1, 0, 1, 0, 0, 0, 0, 0, 0, 1, 1, 1, 0, 1, 0, 1, 1, 1,\n",
       "       1, 1, 0, 0, 0, 1, 0, 1, 0, 1, 1, 1, 0, 1, 0, 1, 1, 0, 1, 0, 0, 1,\n",
       "       0, 1, 0, 0, 0, 0, 1, 1, 1, 1, 0, 1, 1, 1, 1, 0, 0, 0, 0, 0, 0, 0,\n",
       "       1, 1, 1, 1, 1, 1, 1, 1, 1, 0, 1, 1, 0, 0, 0, 0, 1, 0, 0, 1, 0, 0,\n",
       "       1, 0, 0, 0, 0, 0, 1, 0, 0, 0, 1, 0, 1, 1, 1, 1, 1, 1, 1, 1, 1, 0,\n",
       "       0, 0, 1, 1, 1, 1, 1, 0, 1, 0, 0, 0, 0, 1, 1, 0, 0, 0, 0, 0, 1, 1,\n",
       "       1, 1, 1, 1, 0, 1, 1, 1, 1, 1, 1, 1, 1, 1, 0, 1, 1, 0, 0, 1, 1, 1,\n",
       "       1, 1, 1, 1, 0, 0, 0, 1, 0, 0, 1, 0, 0, 1, 1, 0, 0, 1, 1, 1, 1, 0,\n",
       "       1, 0, 0, 0, 0, 0, 0, 0, 1, 1, 1, 1, 1, 1, 1, 0, 0, 0, 0, 0, 1, 1,\n",
       "       1, 1, 1, 0, 0, 0, 0, 1, 1, 0, 1, 0, 0, 0, 0, 0, 0, 0, 0, 0, 0, 1,\n",
       "       0, 1, 1, 1, 1, 1, 1, 0, 1, 1, 1, 1, 1, 0, 0, 0, 0, 0, 0, 1, 0, 0,\n",
       "       1, 1, 1, 1, 0, 1, 0, 0, 0, 0, 0, 1, 0, 1, 0, 0, 0, 1, 0, 1, 1, 1,\n",
       "       1, 1, 1, 1, 1, 1, 0, 1, 0, 1, 1, 1, 0, 0, 0, 0, 1, 1, 1, 1, 0, 0,\n",
       "       0, 0, 1, 1, 0, 0, 1, 0, 0, 1, 1, 1, 0, 1, 0, 1, 1, 1, 1, 1, 1, 1,\n",
       "       1, 1, 1, 1, 0, 1, 1, 0, 1, 1, 0, 0, 1, 1, 1, 1, 1, 1, 1, 0, 0, 0,\n",
       "       0, 0, 1, 1, 0, 0, 0, 0, 1, 1, 1, 0, 0, 0, 0, 1, 1, 0, 1, 1, 1, 0,\n",
       "       1, 0, 1, 0, 0, 0, 0, 0, 0, 0, 0, 0, 1, 0, 1, 0, 1, 0, 0, 1, 1, 1,\n",
       "       1, 1, 1, 1, 1, 1, 1, 1, 1, 1, 1, 1, 0, 0, 1, 1, 1, 1, 0, 1, 1, 1,\n",
       "       1, 1, 1, 1, 1, 1, 0, 0, 0, 1, 1, 0, 0, 1, 0, 0, 0, 0, 1, 1, 1, 1,\n",
       "       0, 0, 1, 1, 1, 1, 1, 1, 1, 1, 1, 1, 1, 1, 1, 1, 1, 0, 0, 0, 1, 1,\n",
       "       1, 0, 1, 1, 0, 1, 0, 0, 0, 0, 0, 1, 1, 0, 0, 0, 1, 1, 0, 0, 0, 0,\n",
       "       0, 0, 1, 1, 0, 1, 1, 1, 1, 1, 1, 1, 1, 1, 1, 0, 0, 1, 0, 0, 0, 0,\n",
       "       1, 0, 0, 1, 1, 0, 0, 0, 0, 0, 0, 0, 1, 0, 1, 1, 0, 1, 1, 1, 0, 0,\n",
       "       0, 1, 1, 1, 1, 1, 0, 0, 0, 0])"
      ]
     },
     "execution_count": 586,
     "metadata": {},
     "output_type": "execute_result"
    }
   ],
   "source": [
    "y_pred"
   ]
  },
  {
   "cell_type": "code",
   "execution_count": 587,
   "metadata": {},
   "outputs": [
    {
     "data": {
      "text/plain": [
       "array([0, 0, 0, 0, 0, 0, 0, 1, 1, 1, 1, 0, 0, 0, 0, 0, 1, 1, 1, 1, 1, 0,\n",
       "       0, 0, 0, 0, 0, 0, 1, 1, 1, 1, 0, 0, 0, 0, 0, 0, 0, 0, 0, 0, 0, 0,\n",
       "       0, 0, 0, 0, 0, 1, 1, 1, 1, 1, 0, 0, 0, 0, 0, 0, 0, 0, 0, 0, 0, 0,\n",
       "       0, 0, 0, 0, 0, 0, 0, 0, 0, 0, 0, 1, 1, 1, 1, 0, 0, 0, 0, 0, 0, 0,\n",
       "       0, 0, 0, 0, 0, 0, 0, 0, 1, 1, 1, 1, 0, 0, 0, 0, 1, 1, 1, 1, 0, 0,\n",
       "       0, 0, 0, 0, 0, 0, 0, 0, 0, 0, 0, 0, 0, 0, 0, 0, 0, 0, 0, 0, 0, 1,\n",
       "       1, 0, 0, 0, 0, 0, 0, 0, 0, 0, 0, 0, 0, 0, 0, 0, 0, 0, 0, 0, 0, 0,\n",
       "       0, 0, 0, 0, 0, 0, 0, 0, 0, 0, 0, 0, 0, 0, 0, 0, 0, 0, 0, 0, 0, 0,\n",
       "       0, 1, 1, 1, 0, 0, 0, 0, 0, 0, 0, 0, 0, 0, 0, 0, 0, 1, 1, 1, 1, 0,\n",
       "       0, 0, 0, 0, 1, 1, 1, 1, 1, 0, 0, 0, 0, 0, 0, 0, 0, 0, 0, 0, 0, 0,\n",
       "       0, 0, 0, 0, 0, 0, 0, 0, 0, 0, 0, 0, 0, 0, 0, 1, 1, 1, 1, 1, 1, 0,\n",
       "       0, 0, 0, 0, 0, 0, 0, 0, 0, 0, 0, 0, 0, 0, 0, 0, 0, 0, 0, 0, 0, 0,\n",
       "       0, 0, 0, 0, 0, 0, 0, 0, 0, 0, 0, 0, 0, 0, 0, 0, 0, 0, 0, 0, 0, 0,\n",
       "       0, 0, 0, 0, 1, 1, 1, 0, 0, 0, 0, 0, 0, 0, 0, 0, 0, 0, 0, 0, 0, 0,\n",
       "       0, 0, 0, 0, 0, 0, 0, 0, 0, 0, 1, 1, 1, 1, 1, 1, 1, 1, 1, 0, 0, 0,\n",
       "       0, 0, 0, 0, 1, 1, 0, 0, 0, 0, 0, 0, 0, 0, 0, 0, 0, 0, 0, 0, 0, 0,\n",
       "       0, 0, 0, 0, 1, 1, 1, 1, 0, 0, 0, 0, 0, 0, 0, 0, 0, 0, 0, 0, 0, 0,\n",
       "       0, 0, 0, 0, 0, 0, 0, 0, 0, 0, 0, 1, 1, 1, 1, 1, 1, 1, 1, 1, 1, 1,\n",
       "       1, 1, 1, 1, 1, 1, 1, 0, 0, 0, 0, 0, 1, 1, 0, 0, 0, 0, 0, 0, 0, 0,\n",
       "       0, 0, 0, 0, 0, 0, 0, 0, 0, 0, 0, 0, 0, 0, 0, 0, 0, 0, 0, 0, 0, 0,\n",
       "       0, 0, 0, 0, 0, 0, 0, 0, 0, 0, 0, 0, 0, 0, 0, 0, 0, 0, 0, 0, 0, 0,\n",
       "       0, 0, 0, 0, 0, 0, 0, 0, 0, 0, 0, 0, 0, 0, 0, 1, 1, 1, 1, 1, 0, 0,\n",
       "       0, 0, 0, 0, 0, 0, 0, 0, 0, 0, 0, 0, 0, 0, 0, 0, 0, 0, 0, 0, 0, 1,\n",
       "       1, 1, 0, 0, 0, 0, 0, 0, 0, 0, 0, 0, 0, 0, 0, 0, 0, 0, 0, 0, 0, 0,\n",
       "       0, 0, 0, 0, 0, 0, 0, 0, 0, 0, 0, 0, 0, 0, 0, 0, 0, 0, 0, 0, 0, 0,\n",
       "       0, 0, 0, 0, 0, 0, 0, 0, 0, 0, 0, 0, 0, 0, 0, 0, 0, 0, 0, 0, 0, 0,\n",
       "       0, 0, 1, 1, 1, 1, 1, 1, 1, 1, 1, 1, 1, 1, 0, 0, 0, 0, 0, 0, 0, 0,\n",
       "       0, 0, 0, 0, 0, 0, 1, 1, 1, 1, 1, 0, 0, 0, 0, 0, 1, 1, 1, 0, 0, 0,\n",
       "       0, 1, 1, 1, 0, 0, 0, 0, 0, 0, 0, 0, 0, 0, 0, 0, 0, 0, 0, 0, 0, 0,\n",
       "       0, 0, 0, 0, 0, 0, 0, 0, 0, 0, 0, 0, 1, 1, 1, 0, 0, 0, 0, 0, 0, 0,\n",
       "       0, 0, 0, 0, 0, 0, 0, 0, 0, 0, 0, 0, 0, 0, 0, 0, 0, 0, 0, 0, 0, 0,\n",
       "       0, 0, 0, 1, 1, 1, 1, 1, 1, 1, 1, 1, 1, 0, 0, 0, 0, 0, 0, 0, 0, 0,\n",
       "       0, 0, 0, 0, 0, 0, 0, 0, 0, 0, 0, 0, 0, 0, 0, 0, 0, 0, 0, 0, 0, 0,\n",
       "       0, 0, 0, 0, 0, 0, 0, 0, 0, 0, 0, 0, 0, 0, 0, 0, 0, 0, 0, 0, 0, 0,\n",
       "       0, 0, 1, 1, 0, 0, 0, 0, 0, 1, 1, 1, 0, 0, 0, 0, 0, 0, 0, 0, 0, 0,\n",
       "       0, 0, 1, 1, 1, 1, 1, 0, 0, 0, 0, 0, 0, 0, 0, 0, 0, 0, 0, 0, 0, 0,\n",
       "       0, 0, 0, 0, 0, 0, 0, 0, 0, 0, 0, 0, 0, 0, 0, 0, 0, 0, 0, 0, 0, 0,\n",
       "       0, 0, 0, 0, 0, 0, 1, 1, 1, 1, 1, 0, 0, 0, 0, 0, 1, 1, 1, 0, 0, 0,\n",
       "       0, 0, 0, 0, 0, 0, 0, 0, 0, 0, 0, 0, 0, 0, 1, 0, 0, 0, 0, 0, 0, 0,\n",
       "       0, 1, 1, 1, 1, 1, 0, 0, 0, 0, 0, 0, 0, 0, 0, 0, 0, 0, 0, 0, 0, 0,\n",
       "       0, 0, 1, 1, 1, 1, 1, 1, 1, 1, 0, 0, 0, 0, 0, 0, 0, 0, 0, 0, 0, 1,\n",
       "       1, 1, 1, 1, 0, 0, 0, 0, 0, 0, 0, 0, 0, 0, 0, 0, 0, 0, 0, 0, 0, 0,\n",
       "       0, 0, 0, 0, 0, 0, 0, 0, 0, 0, 0, 0, 0, 0, 0, 0, 0, 0, 0, 0, 0, 0,\n",
       "       0, 0, 0, 0, 0, 0, 0, 0, 0, 0, 0, 0, 0, 0, 0, 0, 0, 0, 0, 0, 0, 0,\n",
       "       0, 1, 1, 1, 1, 1, 0, 0, 0, 0])"
      ]
     },
     "execution_count": 587,
     "metadata": {},
     "output_type": "execute_result"
    }
   ],
   "source": [
    "YY[Response_Col].values"
   ]
  },
  {
   "cell_type": "code",
   "execution_count": null,
   "metadata": {},
   "outputs": [],
   "source": []
  }
 ],
 "metadata": {
  "kernelspec": {
   "display_name": "Python 3",
   "language": "python",
   "name": "python3"
  },
  "language_info": {
   "codemirror_mode": {
    "name": "ipython",
    "version": 3
   },
   "file_extension": ".py",
   "mimetype": "text/x-python",
   "name": "python",
   "nbconvert_exporter": "python",
   "pygments_lexer": "ipython3",
   "version": "3.7.6"
  }
 },
 "nbformat": 4,
 "nbformat_minor": 4
}
